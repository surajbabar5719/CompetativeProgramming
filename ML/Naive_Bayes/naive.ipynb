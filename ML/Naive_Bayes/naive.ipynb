{
  "nbformat": 4,
  "nbformat_minor": 0,
  "metadata": {
    "colab": {
      "name": "Untitled6.ipynb",
      "provenance": [],
      "authorship_tag": "ABX9TyO+HsDDDQ165ROQggylLiLL",
      "include_colab_link": true
    },
    "kernelspec": {
      "name": "python3",
      "display_name": "Python 3"
    },
    "language_info": {
      "name": "python"
    }
  },
  "cells": [
    {
      "cell_type": "markdown",
      "metadata": {
        "id": "view-in-github",
        "colab_type": "text"
      },
      "source": [
        "<a href=\"https://colab.research.google.com/github/surajbabar5719/CompetativeProgramming/blob/main/ML/Naive_Bayes/naive.ipynb\" target=\"_parent\"><img src=\"https://colab.research.google.com/assets/colab-badge.svg\" alt=\"Open In Colab\"/></a>"
      ]
    },
    {
      "cell_type": "code",
      "metadata": {
        "id": "I3YuaR5LlPjf"
      },
      "source": [
        "import numpy as np\n",
        "import pandas as pd\n",
        "import urllib\n",
        "import sklearn\n",
        "from sklearn.naive_bayes import BernoulliNB\n",
        "from sklearn.naive_bayes import GaussianNB\n",
        "from sklearn.naive_bayes import MultinomialNB\n",
        "from sklearn.model_selection import train_test_split\n",
        "from sklearn import metrics\n",
        "from sklearn.metrics import accuracy_score"
      ],
      "execution_count": 39,
      "outputs": []
    },
    {
      "cell_type": "code",
      "metadata": {
        "colab": {
          "base_uri": "https://localhost:8080/"
        },
        "id": "cPc-7mGNlao3",
        "outputId": "388d0887-7189-4637-b6a8-18cd361d9303"
      },
      "source": [
        "url=\"http://archive.ics.uci.edu/ml/machine-learning-databases/spambase/spambase.data\"\n",
        "raw_data = urllib.request.urlopen(url)\n",
        "dataset = np.loadtxt(raw_data,delimiter=',')\n",
        "print(dataset[0])"
      ],
      "execution_count": 69,
      "outputs": [
        {
          "output_type": "stream",
          "text": [
            "[  0.      0.64    0.64    0.      0.32    0.      0.      0.      0.\n",
            "   0.      0.      0.64    0.      0.      0.      0.32    0.      1.29\n",
            "   1.93    0.      0.96    0.      0.      0.      0.      0.      0.\n",
            "   0.      0.      0.      0.      0.      0.      0.      0.      0.\n",
            "   0.      0.      0.      0.      0.      0.      0.      0.      0.\n",
            "   0.      0.      0.      0.      0.      0.      0.778   0.      0.\n",
            "   3.756  61.    278.      1.   ]\n"
          ],
          "name": "stdout"
        }
      ]
    },
    {
      "cell_type": "code",
      "metadata": {
        "id": "8E4BwF8lluKB"
      },
      "source": [
        "X=dataset[:,0:48]\n",
        "y=dataset[:, -1]"
      ],
      "execution_count": 59,
      "outputs": []
    },
    {
      "cell_type": "code",
      "metadata": {
        "id": "extog8etpYUY"
      },
      "source": [
        "X_train,X_test,y_train,y_test=train_test_split(X, y, test_size=0.33, random_state=17)"
      ],
      "execution_count": 61,
      "outputs": []
    },
    {
      "cell_type": "code",
      "metadata": {
        "colab": {
          "base_uri": "https://localhost:8080/"
        },
        "id": "25AaURYErAIk",
        "outputId": "7c0e685c-9afd-4e39-af09-e048c21f88fd"
      },
      "source": [
        "BernNB=BernoulliNB(binarize= True)\n",
        "BernNB.fit(X_train,y_train)\n",
        "print(BernNB)\n",
        "y_expect = y_test\n",
        "y_pred=BernNB.predict(X_test)\n",
        "print(accuracy_score(y_expect,y_pred))"
      ],
      "execution_count": 70,
      "outputs": [
        {
          "output_type": "stream",
          "text": [
            "BernoulliNB(alpha=1.0, binarize=True, class_prior=None, fit_prior=True)\n",
            "0.8558262014483212\n"
          ],
          "name": "stdout"
        }
      ]
    },
    {
      "cell_type": "code",
      "metadata": {
        "colab": {
          "base_uri": "https://localhost:8080/"
        },
        "id": "NuIj9UT9td-_",
        "outputId": "b51f71ed-20c9-4502-d4a9-b6d8cc70a328"
      },
      "source": [
        "Gaus=GaussianNB()\n",
        "Gaus.fit(X_train,y_train)\n",
        "print(Gaus)\n",
        "y_expect = y_test\n",
        "y_pred=Gaus.predict(X_test)\n",
        "print(accuracy_score(y_expect,y_pred))"
      ],
      "execution_count": 72,
      "outputs": [
        {
          "output_type": "stream",
          "text": [
            "GaussianNB(priors=None, var_smoothing=1e-09)\n",
            "0.8130348913759052\n"
          ],
          "name": "stdout"
        }
      ]
    }
  ]
}